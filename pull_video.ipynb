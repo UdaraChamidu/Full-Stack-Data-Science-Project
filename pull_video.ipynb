{
  "nbformat": 4,
  "nbformat_minor": 0,
  "metadata": {
    "colab": {
      "provenance": [],
      "authorship_tag": "ABX9TyPXIPr4pYMrDnMdfBt+4Vlp",
      "include_colab_link": true
    },
    "kernelspec": {
      "name": "python3",
      "display_name": "Python 3"
    },
    "language_info": {
      "name": "python"
    }
  },
  "cells": [
    {
      "cell_type": "markdown",
      "metadata": {
        "id": "view-in-github",
        "colab_type": "text"
      },
      "source": [
        "<a href=\"https://colab.research.google.com/github/UdaraChamidu/Full-Stack-Data-Science-Project/blob/main/pull_video.ipynb\" target=\"_parent\"><img src=\"https://colab.research.google.com/assets/colab-badge.svg\" alt=\"Open In Colab\"/></a>"
      ]
    },
    {
      "cell_type": "code",
      "source": [
        "pip install youtube-transcript-api==0.6.2"
      ],
      "metadata": {
        "colab": {
          "base_uri": "https://localhost:8080/",
          "height": 391
        },
        "id": "ydTvOZMOAHVf",
        "outputId": "43c2aaf9-53d3-46ad-9f03-ea5d16a5fff6"
      },
      "execution_count": 100,
      "outputs": [
        {
          "output_type": "stream",
          "name": "stdout",
          "text": [
            "Collecting youtube-transcript-api==0.6.2\n",
            "  Downloading youtube_transcript_api-0.6.2-py3-none-any.whl.metadata (15 kB)\n",
            "Requirement already satisfied: requests in /usr/local/lib/python3.12/dist-packages (from youtube-transcript-api==0.6.2) (2.32.4)\n",
            "Requirement already satisfied: charset_normalizer<4,>=2 in /usr/local/lib/python3.12/dist-packages (from requests->youtube-transcript-api==0.6.2) (3.4.3)\n",
            "Requirement already satisfied: idna<4,>=2.5 in /usr/local/lib/python3.12/dist-packages (from requests->youtube-transcript-api==0.6.2) (3.10)\n",
            "Requirement already satisfied: urllib3<3,>=1.21.1 in /usr/local/lib/python3.12/dist-packages (from requests->youtube-transcript-api==0.6.2) (2.5.0)\n",
            "Requirement already satisfied: certifi>=2017.4.17 in /usr/local/lib/python3.12/dist-packages (from requests->youtube-transcript-api==0.6.2) (2025.8.3)\n",
            "Downloading youtube_transcript_api-0.6.2-py3-none-any.whl (24 kB)\n",
            "Installing collected packages: youtube-transcript-api\n",
            "  Attempting uninstall: youtube-transcript-api\n",
            "    Found existing installation: youtube-transcript-api 1.2.2\n",
            "    Uninstalling youtube-transcript-api-1.2.2:\n",
            "      Successfully uninstalled youtube-transcript-api-1.2.2\n",
            "Successfully installed youtube-transcript-api-0.6.2\n"
          ]
        },
        {
          "output_type": "display_data",
          "data": {
            "application/vnd.colab-display-data+json": {
              "pip_warning": {
                "packages": [
                  "youtube_transcript_api"
                ]
              },
              "id": "3f3bdad40e96463b8ec96062afcbc9f3"
            }
          },
          "metadata": {}
        }
      ]
    },
    {
      "cell_type": "code",
      "execution_count": 1,
      "metadata": {
        "id": "6tnfdf4NtNto"
      },
      "outputs": [],
      "source": [
        "import requests # api calls\n",
        "import json # CONVERT TO JSON\n",
        "import polars as pl # faster version of pandas\n",
        "from google.colab import userdata # load secreats\n",
        "\n",
        "from youtube_transcript_api import YouTubeTranscriptApi"
      ]
    },
    {
      "cell_type": "code",
      "source": [
        "import os\n",
        "my_key = userdata.get('my_key')"
      ],
      "metadata": {
        "id": "da-A22PDtuTb"
      },
      "execution_count": 2,
      "outputs": []
    },
    {
      "cell_type": "code",
      "source": [
        "def getVideoRecords(response: requests.models.Response) -> list:\n",
        "    \"\"\"\n",
        "        Function to extract YouTube video data from GET request response\n",
        "    \"\"\"\n",
        "\n",
        "    video_record_list = []\n",
        "\n",
        "    for raw_item in json.loads(response.text)['items']:\n",
        "\n",
        "        # only execute for youtube videos\n",
        "        if raw_item['id']['kind'] != \"youtube#video\":\n",
        "            continue\n",
        "\n",
        "        video_record = {}\n",
        "        video_record['video_id'] = raw_item['id']['videoId']\n",
        "        video_record['datetime'] = raw_item['snippet']['publishedAt']\n",
        "        video_record['title'] = raw_item['snippet']['title']\n",
        "        #video_record['transcript'] = raw_item['snippet']['transcript']\n",
        "        #video_record['description'] = raw_item['snippet']['description']\n",
        "\n",
        "        video_record_list.append(video_record)\n",
        "\n",
        "    return video_record_list"
      ],
      "metadata": {
        "id": "miSQXegntgvt"
      },
      "execution_count": 3,
      "outputs": []
    },
    {
      "cell_type": "code",
      "source": [
        "# define channel ID\n",
        "channel_id = 'UC4XHOuACFrl25gfW78vS-GA'\n",
        "# https://www.youtube.com/@SuprOrdinary  recomended by chat GPT\n",
        "# define url for API\n",
        "\n",
        "url = 'https://www.googleapis.com/youtube/v3/search'\n",
        "\n",
        "# initialize page token\n",
        "page_token = None\n",
        "\n",
        "# intialize list to store video data\n",
        "video_record_list = []"
      ],
      "metadata": {
        "id": "QFvNVvlQtlGn"
      },
      "execution_count": 19,
      "outputs": []
    },
    {
      "cell_type": "code",
      "source": [
        "%%time\n",
        "# extract video data across multiple search result pages\n",
        "while page_token != 0:\n",
        "    # define parameters for API call\n",
        "    # max result is reduced to 2. because it exceed the daily limit.\n",
        "    params = {\"key\": my_key, 'channelId': channel_id, 'part': [\"snippet\",\"id\"], 'order': \"date\", 'maxResults':2, 'pageToken': page_token}\n",
        "    # make get request\n",
        "    response = requests.get(url, params=params)\n",
        "\n",
        "    # Check if the request was successful and the response contains 'items'\n",
        "    if response.status_code == 200 and 'items' in json.loads(response.text):\n",
        "        # append video records to list\n",
        "        video_record_list += getVideoRecords(response)\n",
        "\n",
        "        try:\n",
        "            # grab next page token\n",
        "            page_token = json.loads(response.text)['nextPageToken']\n",
        "        except KeyError:\n",
        "            # if no next page token kill while loop\n",
        "            page_token = 0\n",
        "    else:\n",
        "        # If the request was not successful or 'items' is missing, stop the loop\n",
        "        print(f\"API request failed with status code {response.status_code} or no items found.\")\n",
        "        print(response.text) # Print the response text for debugging\n",
        "        page_token = 0"
      ],
      "metadata": {
        "colab": {
          "base_uri": "https://localhost:8080/"
        },
        "id": "2lt-MFq4tpeD",
        "outputId": "e9a5da76-7fea-4064-a2b5-219949c2d340"
      },
      "execution_count": 20,
      "outputs": [
        {
          "output_type": "stream",
          "name": "stdout",
          "text": [
            "API request failed with status code 403 or no items found.\n",
            "{\n",
            "  \"error\": {\n",
            "    \"code\": 403,\n",
            "    \"message\": \"The request cannot be completed because you have exceeded your \\u003ca href=\\\"/youtube/v3/getting-started#quota\\\"\\u003equota\\u003c/a\\u003e.\",\n",
            "    \"errors\": [\n",
            "      {\n",
            "        \"message\": \"The request cannot be completed because you have exceeded your \\u003ca href=\\\"/youtube/v3/getting-started#quota\\\"\\u003equota\\u003c/a\\u003e.\",\n",
            "        \"domain\": \"youtube.quota\",\n",
            "        \"reason\": \"quotaExceeded\"\n",
            "      }\n",
            "    ]\n",
            "  }\n",
            "}\n",
            "\n",
            "CPU times: user 7.4 ms, sys: 78 µs, total: 7.48 ms\n",
            "Wall time: 79.2 ms\n"
          ]
        }
      ]
    },
    {
      "cell_type": "code",
      "source": [
        "# write data to file\n",
        "os.makedirs('data')\n",
        "pl.DataFrame(video_record_list).write_parquet('data/video-ids.parquet')\n",
        "pl.DataFrame(video_record_list).write_csv('data/video-ids.csv')"
      ],
      "metadata": {
        "id": "qnd-NhVIuAW2"
      },
      "execution_count": 8,
      "outputs": []
    },
    {
      "cell_type": "code",
      "source": [
        "video_record_list"
      ],
      "metadata": {
        "colab": {
          "base_uri": "https://localhost:8080/"
        },
        "id": "GWcTWyLUuqD6",
        "outputId": "ccca2acc-4ce2-486e-ecec-b6a0cd23936b"
      },
      "execution_count": 7,
      "outputs": [
        {
          "output_type": "execute_result",
          "data": {
            "text/plain": [
              "[{'video_id': 'y3_0d-_rAgY',\n",
              "  'datetime': '2025-08-31T11:01:35Z',\n",
              "  'title': 'Fine-Tuning GPT-4o: Build Your Own Custom AI Model (Step-by-Step Guide)'},\n",
              " {'video_id': 'b96tn09Lz3I',\n",
              "  'datetime': '2025-08-29T09:30:18Z',\n",
              "  'title': 'Langflow Tutorial | Build RAG Apps &amp; Agentic AI Without Coding'},\n",
              " {'video_id': '9zsZZ2HbnOI',\n",
              "  'datetime': '2025-08-27T02:15:01Z',\n",
              "  'title': 'Build Your First AI Chatbot in 5 Minutes | Langflow No-Code Tutorial'},\n",
              " {'video_id': 'JgWD6Tin9eQ',\n",
              "  'datetime': '2025-08-24T07:30:14Z',\n",
              "  'title': 'Agentic AI vs Traditional AI'},\n",
              " {'video_id': 'GlLlggfoM5M',\n",
              "  'datetime': '2025-08-22T10:30:10Z',\n",
              "  'title': 'Stock Market Analysis with Multi-Agent AI Agents | Azure Agent Foundry End-to-End Project'},\n",
              " {'video_id': 'Nu14lrjDDTM',\n",
              "  'datetime': '2025-08-20T02:15:02Z',\n",
              "  'title': 'Azure Agentic AI SDK Tutorial: Create &amp; Manage Agents'},\n",
              " {'video_id': '-gaFEfFJYLc',\n",
              "  'datetime': '2025-08-17T09:15:01Z',\n",
              "  'title': 'AI Agent in Just 5 Minutes with Azure 🤯'},\n",
              " {'video_id': 'UkITNsHfdyM',\n",
              "  'datetime': '2025-08-15T05:15:02Z',\n",
              "  'title': 'MCP – Build a Smart Inventory System: End-to-End Project ✅'},\n",
              " {'video_id': 'iqya5VRRJj0',\n",
              "  'datetime': '2025-08-11T09:30:32Z',\n",
              "  'title': 'Build Your First MCP – Model Context Protocol Explained + Real-Time Personal Finance Project'},\n",
              " {'video_id': 'JpFYRdgBdDA',\n",
              "  'datetime': '2025-07-31T02:30:26Z',\n",
              "  'title': '👉 Beginner’s Guide to CrewAI – Create a Smart Hiring Agent!'},\n",
              " {'video_id': 'fQDzRwkimaE',\n",
              "  'datetime': '2025-07-29T02:30:36Z',\n",
              "  'title': 'Build Your First Agentic AI Workflow with CrewAI – Beginner’s Guide'},\n",
              " {'video_id': '-hjS60x9K38',\n",
              "  'datetime': '2025-07-27T02:00:02Z',\n",
              "  'title': 'Build a Multi-Agent IT Ticket Resolver with AutoGen + Azure AI | Full Project with UI, Email, RAG'},\n",
              " {'video_id': 'bLzDkas_Tys',\n",
              "  'datetime': '2025-07-24T02:00:28Z',\n",
              "  'title': 'AutoGen vs CrewAI vs LangGraph 🔥 Which Multi-Agent AI Framework Should You Use in 2025?'},\n",
              " {'video_id': 'fwUb1ABy0tU',\n",
              "  'datetime': '2025-07-19T10:30:33Z',\n",
              "  'title': '🚀 Design Enterprise-Grade Agentic AI Architecture |  Scalable Architecture + Real-World Example'},\n",
              " {'video_id': 'jSpaiyj7Sdg',\n",
              "  'datetime': '2025-07-18T09:30:38Z',\n",
              "  'title': 'Breast Cancer Detection Using Azure Custom Vision AI | Train, Deploy &amp; Predict with SDK-Real Project'},\n",
              " {'video_id': '6msuObMKj9U',\n",
              "  'datetime': '2025-07-16T02:00:12Z',\n",
              "  'title': 'Train &amp; Deploy Smart Waste Detection AI | Azure Custom Vision Project from Scratch (No ML Needed)🔥💥'},\n",
              " {'video_id': 'tJut3mzrlqc',\n",
              "  'datetime': '2025-07-15T02:30:43Z',\n",
              "  'title': '🔥 Build a Legal RAG Assistant with AutoGen | End-to-End GenAI Project from Scratch!'},\n",
              " {'video_id': 'ICYo8DOWsBY',\n",
              "  'datetime': '2025-07-14T14:30:13Z',\n",
              "  'title': '11- AutoGen Agent Selection Explained: Round Robin vs Random vs Auto 🤖'},\n",
              " {'video_id': 'Vj8Thrc8EAY',\n",
              "  'datetime': '2025-07-14T09:30:17Z',\n",
              "  'title': '10- Build Smart Multi-Agent Conversations using AutoGen 🤖 | Nested Chat Explained!'},\n",
              " {'video_id': 'fHr_44YwLVM',\n",
              "  'datetime': '2025-07-14T01:30:26Z',\n",
              "  'title': '09- Agentic AI - Multi-Agent Collaboration🔥 AutoGen Group Chat Explained with Cake &amp; Code 🍰💻'},\n",
              " {'video_id': 'a_2uECpDDRE',\n",
              "  'datetime': '2025-07-13T14:30:01Z',\n",
              "  'title': '08- Build Smart Multi-Agent Workflows Using AutoGen Sequential Pattern'},\n",
              " {'video_id': 'ksByutpmnqI',\n",
              "  'datetime': '2025-07-13T11:30:40Z',\n",
              "  'title': '07- AI Student Asks, AI Teacher Explains! 🤖📘 | AutoGen Chat Demo You Must See'},\n",
              " {'video_id': '2zWRAvcZfF4',\n",
              "  'datetime': '2025-07-13T09:30:04Z',\n",
              "  'title': '06 tool use in autogen agent'},\n",
              " {'video_id': 'gTwZ64dl7qo',\n",
              "  'datetime': '2025-07-13T06:30:18Z',\n",
              "  'title': '05- Run AI-Generated Code Safely with Docker! | AutoGen Agent Code Execution'},\n",
              " {'video_id': 'qzWGwC9K53o',\n",
              "  'datetime': '2025-07-13T03:45:04Z',\n",
              "  'title': '04- AutoGen Unleashed: Empowering Agents with Code Execution'},\n",
              " {'video_id': 'zA5SOU7qVGs',\n",
              "  'datetime': '2025-07-12T05:30:27Z',\n",
              "  'title': '03- AutoGen + Human-in-the-Loop: Build Smarter, Controllable AI Agents!'},\n",
              " {'video_id': 'Edt6sgKFgi4',\n",
              "  'datetime': '2025-07-12T01:52:29Z',\n",
              "  'title': '02- AutoGen Agent Conversations: How to Terminate Agent Chats Gracefully'},\n",
              " {'video_id': 'tvrGwdV-lI4',\n",
              "  'datetime': '2025-07-11T19:37:29Z',\n",
              "  'title': '01- Getting Started with AutoGen – Build Your First Agentic AI Workflow'},\n",
              " {'video_id': '1eVza12aN80',\n",
              "  'datetime': '2025-07-11T09:30:00Z',\n",
              "  'title': 'Build a GenAI-Powered Text to SQL Assistant | Full Project Walkthrough'},\n",
              " {'video_id': 'LUO6rOGnGHs',\n",
              "  'datetime': '2025-06-21T08:49:04Z',\n",
              "  'title': 'Agentic AI Is Replacing Enterprise Workflows — Here&#39;s How'}]"
            ]
          },
          "metadata": {},
          "execution_count": 7
        }
      ]
    },
    {
      "cell_type": "markdown",
      "source": [
        "# Get the Transcript"
      ],
      "metadata": {
        "id": "_Ch8Bo8b0caf"
      }
    },
    {
      "cell_type": "code",
      "source": [
        "import polars as pl"
      ],
      "metadata": {
        "id": "1qoA9aPZ0fUM"
      },
      "execution_count": 9,
      "outputs": []
    },
    {
      "cell_type": "code",
      "source": [
        "def extract_text(transcript: list) -> str:\n",
        "    \"\"\"\n",
        "        Function to extract text from transcript dictionary\n",
        "    \"\"\"\n",
        "\n",
        "    text_list = [transcript[i]['text'] for i in range(len(transcript))]\n",
        "    return ' '.join(text_list)"
      ],
      "metadata": {
        "id": "rlMnEpo20kHK"
      },
      "execution_count": 10,
      "outputs": []
    },
    {
      "cell_type": "code",
      "source": [
        "df = pl.read_parquet('data/video-ids.parquet')\n",
        "print(df.head())"
      ],
      "metadata": {
        "colab": {
          "base_uri": "https://localhost:8080/"
        },
        "id": "1bCMSVVq0mRH",
        "outputId": "a53ae65e-c427-494b-aa69-7c6e35b7d6a4"
      },
      "execution_count": 11,
      "outputs": [
        {
          "output_type": "stream",
          "name": "stdout",
          "text": [
            "shape: (5, 3)\n",
            "┌─────────────┬──────────────────────┬─────────────────────────────────┐\n",
            "│ video_id    ┆ datetime             ┆ title                           │\n",
            "│ ---         ┆ ---                  ┆ ---                             │\n",
            "│ str         ┆ str                  ┆ str                             │\n",
            "╞═════════════╪══════════════════════╪═════════════════════════════════╡\n",
            "│ y3_0d-_rAgY ┆ 2025-08-31T11:01:35Z ┆ Fine-Tuning GPT-4o: Build Your… │\n",
            "│ b96tn09Lz3I ┆ 2025-08-29T09:30:18Z ┆ Langflow Tutorial | Build RAG … │\n",
            "│ 9zsZZ2HbnOI ┆ 2025-08-27T02:15:01Z ┆ Build Your First AI Chatbot in… │\n",
            "│ JgWD6Tin9eQ ┆ 2025-08-24T07:30:14Z ┆ Agentic AI vs Traditional AI    │\n",
            "│ GlLlggfoM5M ┆ 2025-08-22T10:30:10Z ┆ Stock Market Analysis with Mul… │\n",
            "└─────────────┴──────────────────────┴─────────────────────────────────┘\n"
          ]
        }
      ]
    },
    {
      "cell_type": "code",
      "source": [
        "%%time\n",
        "transcript_text_list = []\n",
        "\n",
        "for i in range(len(df)):\n",
        "\n",
        "    # try to extract captions\n",
        "    try:\n",
        "        transcript = YouTubeTranscriptApi.get_transcript(df['video_id'][i])\n",
        "        transcript_text = extract_text(transcript)\n",
        "    # if not available set as n/a\n",
        "    except:\n",
        "        transcript_text = \"n/a\"\n",
        "\n",
        "    transcript_text_list.append(transcript_text)"
      ],
      "metadata": {
        "colab": {
          "base_uri": "https://localhost:8080/"
        },
        "id": "xiolePlQ0pe6",
        "outputId": "e7b4318b-ccd1-4725-fb09-14997f98e5f7"
      },
      "execution_count": 13,
      "outputs": [
        {
          "output_type": "stream",
          "name": "stdout",
          "text": [
            "CPU times: user 896 ms, sys: 114 ms, total: 1.01 s\n",
            "Wall time: 18.6 s\n"
          ]
        }
      ]
    },
    {
      "cell_type": "code",
      "source": [
        "# add transcripts to dataframe\n",
        "df = df.with_columns(pl.Series(name=\"transcript\", values=transcript_text_list))\n",
        "print(df.tail())"
      ],
      "metadata": {
        "colab": {
          "base_uri": "https://localhost:8080/"
        },
        "id": "iW5CnfyR0r8g",
        "outputId": "efaa8fa0-0ddf-4360-955f-9edc16bf24a7"
      },
      "execution_count": 14,
      "outputs": [
        {
          "output_type": "stream",
          "name": "stdout",
          "text": [
            "shape: (5, 4)\n",
            "┌─────────────┬──────────────────────┬─────────────────────────────────┬────────────┐\n",
            "│ video_id    ┆ datetime             ┆ title                           ┆ transcript │\n",
            "│ ---         ┆ ---                  ┆ ---                             ┆ ---        │\n",
            "│ str         ┆ str                  ┆ str                             ┆ str        │\n",
            "╞═════════════╪══════════════════════╪═════════════════════════════════╪════════════╡\n",
            "│ zA5SOU7qVGs ┆ 2025-07-12T05:30:27Z ┆ 03- AutoGen + Human-in-the-Loo… ┆ n/a        │\n",
            "│ Edt6sgKFgi4 ┆ 2025-07-12T01:52:29Z ┆ 02- AutoGen Agent Conversation… ┆ n/a        │\n",
            "│ tvrGwdV-lI4 ┆ 2025-07-11T19:37:29Z ┆ 01- Getting Started with AutoG… ┆ n/a        │\n",
            "│ 1eVza12aN80 ┆ 2025-07-11T09:30:00Z ┆ Build a GenAI-Powered Text to … ┆ n/a        │\n",
            "│ LUO6rOGnGHs ┆ 2025-06-21T08:49:04Z ┆ Agentic AI Is Replacing Enterp… ┆ n/a        │\n",
            "└─────────────┴──────────────────────┴─────────────────────────────────┴────────────┘\n"
          ]
        }
      ]
    },
    {
      "cell_type": "code",
      "source": [
        "df"
      ],
      "metadata": {
        "colab": {
          "base_uri": "https://localhost:8080/",
          "height": 443
        },
        "id": "lbxDWucm55Ew",
        "outputId": "afd07849-a03b-4844-dc9f-b27eb2875bdc"
      },
      "execution_count": 15,
      "outputs": [
        {
          "output_type": "execute_result",
          "data": {
            "text/plain": [
              "shape: (30, 4)\n",
              "┌─────────────┬──────────────────────┬─────────────────────────────────┬────────────┐\n",
              "│ video_id    ┆ datetime             ┆ title                           ┆ transcript │\n",
              "│ ---         ┆ ---                  ┆ ---                             ┆ ---        │\n",
              "│ str         ┆ str                  ┆ str                             ┆ str        │\n",
              "╞═════════════╪══════════════════════╪═════════════════════════════════╪════════════╡\n",
              "│ y3_0d-_rAgY ┆ 2025-08-31T11:01:35Z ┆ Fine-Tuning GPT-4o: Build Your… ┆ n/a        │\n",
              "│ b96tn09Lz3I ┆ 2025-08-29T09:30:18Z ┆ Langflow Tutorial | Build RAG … ┆ n/a        │\n",
              "│ 9zsZZ2HbnOI ┆ 2025-08-27T02:15:01Z ┆ Build Your First AI Chatbot in… ┆ n/a        │\n",
              "│ JgWD6Tin9eQ ┆ 2025-08-24T07:30:14Z ┆ Agentic AI vs Traditional AI    ┆ n/a        │\n",
              "│ GlLlggfoM5M ┆ 2025-08-22T10:30:10Z ┆ Stock Market Analysis with Mul… ┆ n/a        │\n",
              "│ …           ┆ …                    ┆ …                               ┆ …          │\n",
              "│ zA5SOU7qVGs ┆ 2025-07-12T05:30:27Z ┆ 03- AutoGen + Human-in-the-Loo… ┆ n/a        │\n",
              "│ Edt6sgKFgi4 ┆ 2025-07-12T01:52:29Z ┆ 02- AutoGen Agent Conversation… ┆ n/a        │\n",
              "│ tvrGwdV-lI4 ┆ 2025-07-11T19:37:29Z ┆ 01- Getting Started with AutoG… ┆ n/a        │\n",
              "│ 1eVza12aN80 ┆ 2025-07-11T09:30:00Z ┆ Build a GenAI-Powered Text to … ┆ n/a        │\n",
              "│ LUO6rOGnGHs ┆ 2025-06-21T08:49:04Z ┆ Agentic AI Is Replacing Enterp… ┆ n/a        │\n",
              "└─────────────┴──────────────────────┴─────────────────────────────────┴────────────┘"
            ],
            "text/html": [
              "<div><style>\n",
              ".dataframe > thead > tr,\n",
              ".dataframe > tbody > tr {\n",
              "  text-align: right;\n",
              "  white-space: pre-wrap;\n",
              "}\n",
              "</style>\n",
              "<small>shape: (30, 4)</small><table border=\"1\" class=\"dataframe\"><thead><tr><th>video_id</th><th>datetime</th><th>title</th><th>transcript</th></tr><tr><td>str</td><td>str</td><td>str</td><td>str</td></tr></thead><tbody><tr><td>&quot;y3_0d-_rAgY&quot;</td><td>&quot;2025-08-31T11:01:35Z&quot;</td><td>&quot;Fine-Tuning GPT-4o: Build Your…</td><td>&quot;n/a&quot;</td></tr><tr><td>&quot;b96tn09Lz3I&quot;</td><td>&quot;2025-08-29T09:30:18Z&quot;</td><td>&quot;Langflow Tutorial | Build RAG …</td><td>&quot;n/a&quot;</td></tr><tr><td>&quot;9zsZZ2HbnOI&quot;</td><td>&quot;2025-08-27T02:15:01Z&quot;</td><td>&quot;Build Your First AI Chatbot in…</td><td>&quot;n/a&quot;</td></tr><tr><td>&quot;JgWD6Tin9eQ&quot;</td><td>&quot;2025-08-24T07:30:14Z&quot;</td><td>&quot;Agentic AI vs Traditional AI&quot;</td><td>&quot;n/a&quot;</td></tr><tr><td>&quot;GlLlggfoM5M&quot;</td><td>&quot;2025-08-22T10:30:10Z&quot;</td><td>&quot;Stock Market Analysis with Mul…</td><td>&quot;n/a&quot;</td></tr><tr><td>&hellip;</td><td>&hellip;</td><td>&hellip;</td><td>&hellip;</td></tr><tr><td>&quot;zA5SOU7qVGs&quot;</td><td>&quot;2025-07-12T05:30:27Z&quot;</td><td>&quot;03- AutoGen + Human-in-the-Loo…</td><td>&quot;n/a&quot;</td></tr><tr><td>&quot;Edt6sgKFgi4&quot;</td><td>&quot;2025-07-12T01:52:29Z&quot;</td><td>&quot;02- AutoGen Agent Conversation…</td><td>&quot;n/a&quot;</td></tr><tr><td>&quot;tvrGwdV-lI4&quot;</td><td>&quot;2025-07-11T19:37:29Z&quot;</td><td>&quot;01- Getting Started with AutoG…</td><td>&quot;n/a&quot;</td></tr><tr><td>&quot;1eVza12aN80&quot;</td><td>&quot;2025-07-11T09:30:00Z&quot;</td><td>&quot;Build a GenAI-Powered Text to …</td><td>&quot;n/a&quot;</td></tr><tr><td>&quot;LUO6rOGnGHs&quot;</td><td>&quot;2025-06-21T08:49:04Z&quot;</td><td>&quot;Agentic AI Is Replacing Enterp…</td><td>&quot;n/a&quot;</td></tr></tbody></table></div>"
            ]
          },
          "metadata": {},
          "execution_count": 15
        }
      ]
    },
    {
      "cell_type": "code",
      "source": [
        "# write data to file\n",
        "df.write_parquet('data/video-transcripts.parquet')\n",
        "df.write_csv('data/video-transcripts.csv')"
      ],
      "metadata": {
        "id": "y025wvGl0uUw"
      },
      "execution_count": null,
      "outputs": []
    },
    {
      "cell_type": "code",
      "source": [],
      "metadata": {
        "id": "Rp7crgNt_jal"
      },
      "execution_count": null,
      "outputs": []
    },
    {
      "cell_type": "code",
      "source": [],
      "metadata": {
        "id": "DrYY1chm_jXE"
      },
      "execution_count": null,
      "outputs": []
    },
    {
      "cell_type": "code",
      "source": [],
      "metadata": {
        "id": "FTfKK3pe_jUk"
      },
      "execution_count": null,
      "outputs": []
    },
    {
      "cell_type": "code",
      "source": [],
      "metadata": {
        "id": "rrItXteZ_jSI"
      },
      "execution_count": null,
      "outputs": []
    },
    {
      "cell_type": "code",
      "source": [],
      "metadata": {
        "id": "T_MC_2zs_jPa"
      },
      "execution_count": null,
      "outputs": []
    },
    {
      "cell_type": "code",
      "source": [],
      "metadata": {
        "id": "0MZxFWjk_8LI"
      },
      "execution_count": null,
      "outputs": []
    }
  ]
}