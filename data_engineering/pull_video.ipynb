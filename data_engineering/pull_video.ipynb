{
  "nbformat": 4,
  "nbformat_minor": 0,
  "metadata": {
    "colab": {
      "provenance": []
    },
    "kernelspec": {
      "name": "python3",
      "display_name": "Python 3"
    },
    "language_info": {
      "name": "python"
    }
  },
  "cells": [
    {
      "cell_type": "code",
      "source": [
        "!pip install youtube_transcript_api"
      ],
      "metadata": {
        "colab": {
          "base_uri": "https://localhost:8080/"
        },
        "id": "YDw8uMkbtZC_",
        "outputId": "f3352eb9-69d3-405a-c46f-6070a5f470fd"
      },
      "execution_count": 9,
      "outputs": [
        {
          "output_type": "stream",
          "name": "stdout",
          "text": [
            "Requirement already satisfied: youtube_transcript_api in /usr/local/lib/python3.12/dist-packages (1.2.2)\n",
            "Requirement already satisfied: defusedxml<0.8.0,>=0.7.1 in /usr/local/lib/python3.12/dist-packages (from youtube_transcript_api) (0.7.1)\n",
            "Requirement already satisfied: requests in /usr/local/lib/python3.12/dist-packages (from youtube_transcript_api) (2.32.4)\n",
            "Requirement already satisfied: charset_normalizer<4,>=2 in /usr/local/lib/python3.12/dist-packages (from requests->youtube_transcript_api) (3.4.3)\n",
            "Requirement already satisfied: idna<4,>=2.5 in /usr/local/lib/python3.12/dist-packages (from requests->youtube_transcript_api) (3.10)\n",
            "Requirement already satisfied: urllib3<3,>=1.21.1 in /usr/local/lib/python3.12/dist-packages (from requests->youtube_transcript_api) (2.5.0)\n",
            "Requirement already satisfied: certifi>=2017.4.17 in /usr/local/lib/python3.12/dist-packages (from requests->youtube_transcript_api) (2025.8.3)\n"
          ]
        }
      ]
    },
    {
      "cell_type": "code",
      "execution_count": 10,
      "metadata": {
        "id": "6tnfdf4NtNto"
      },
      "outputs": [],
      "source": [
        "import requests # api calls\n",
        "import json # CONVERT TO JSON\n",
        "import polars as pl # faster version of pandas\n",
        "from google.colab import userdata # load secreats\n",
        "\n",
        "from youtube_transcript_api import YouTubeTranscriptApi"
      ]
    },
    {
      "cell_type": "code",
      "source": [
        "import os\n",
        "my_key = userdata.get('my_key')"
      ],
      "metadata": {
        "id": "da-A22PDtuTb"
      },
      "execution_count": 11,
      "outputs": []
    },
    {
      "cell_type": "code",
      "source": [
        "def getVideoRecords(response: requests.models.Response) -> list:\n",
        "    \"\"\"\n",
        "        Function to extract YouTube video data from GET request response\n",
        "    \"\"\"\n",
        "\n",
        "    video_record_list = []\n",
        "\n",
        "    for raw_item in json.loads(response.text)['items']:\n",
        "\n",
        "        # only execute for youtube videos\n",
        "        if raw_item['id']['kind'] != \"youtube#video\":\n",
        "            continue\n",
        "\n",
        "        video_record = {}\n",
        "        video_record['video_id'] = raw_item['id']['videoId']\n",
        "        video_record['datetime'] = raw_item['snippet']['publishedAt']\n",
        "        video_record['title'] = raw_item['snippet']['title']\n",
        "\n",
        "        video_record_list.append(video_record)\n",
        "\n",
        "    return video_record_list"
      ],
      "metadata": {
        "id": "miSQXegntgvt"
      },
      "execution_count": 12,
      "outputs": []
    },
    {
      "cell_type": "code",
      "source": [
        "# define channel ID\n",
        "channel_id = 'UCa9gErQ9AE5jT2DZLjXBIdA'\n",
        "\n",
        "# define url for API\n",
        "url = 'https://www.googleapis.com/youtube/v3/search'\n",
        "\n",
        "# initialize page token\n",
        "page_token = None\n",
        "\n",
        "# intialize list to store video data\n",
        "video_record_list = []"
      ],
      "metadata": {
        "id": "QFvNVvlQtlGn"
      },
      "execution_count": 13,
      "outputs": []
    },
    {
      "cell_type": "code",
      "source": [
        "%%time\n",
        "# extract video data across multiple search result pages\n",
        "while page_token != 0:\n",
        "    # define parameters for API call\n",
        "    # max result is reduced to 2. because it exceed the daily limit.\n",
        "    params = {\"key\": my_key, 'channelId': channel_id, 'part': [\"snippet\",\"id\"], 'order': \"date\", 'maxResults':2, 'pageToken': page_token}\n",
        "    # make get request\n",
        "    response = requests.get(url, params=params)\n",
        "\n",
        "    # Check if the request was successful and the response contains 'items'\n",
        "    if response.status_code == 200 and 'items' in json.loads(response.text):\n",
        "        # append video records to list\n",
        "        video_record_list += getVideoRecords(response)\n",
        "\n",
        "        try:\n",
        "            # grab next page token\n",
        "            page_token = json.loads(response.text)['nextPageToken']\n",
        "        except KeyError:\n",
        "            # if no next page token kill while loop\n",
        "            page_token = 0\n",
        "    else:\n",
        "        # If the request was not successful or 'items' is missing, stop the loop\n",
        "        print(f\"API request failed with status code {response.status_code} or no items found.\")\n",
        "        print(response.text) # Print the response text for debugging\n",
        "        page_token = 0"
      ],
      "metadata": {
        "colab": {
          "base_uri": "https://localhost:8080/"
        },
        "id": "2lt-MFq4tpeD",
        "outputId": "09e2363f-b734-426e-ef7d-7aba1206e86b"
      },
      "execution_count": 14,
      "outputs": [
        {
          "output_type": "stream",
          "name": "stdout",
          "text": [
            "API request failed with status code 403 or no items found.\n",
            "{\n",
            "  \"error\": {\n",
            "    \"code\": 403,\n",
            "    \"message\": \"The request cannot be completed because you have exceeded your \\u003ca href=\\\"/youtube/v3/getting-started#quota\\\"\\u003equota\\u003c/a\\u003e.\",\n",
            "    \"errors\": [\n",
            "      {\n",
            "        \"message\": \"The request cannot be completed because you have exceeded your \\u003ca href=\\\"/youtube/v3/getting-started#quota\\\"\\u003equota\\u003c/a\\u003e.\",\n",
            "        \"domain\": \"youtube.quota\",\n",
            "        \"reason\": \"quotaExceeded\"\n",
            "      }\n",
            "    ]\n",
            "  }\n",
            "}\n",
            "\n",
            "CPU times: user 5.63 ms, sys: 918 µs, total: 6.55 ms\n",
            "Wall time: 72.4 ms\n"
          ]
        }
      ]
    },
    {
      "cell_type": "code",
      "source": [
        "# write data to file\n",
        "os.makedirs('data')\n",
        "pl.DataFrame(video_record_list).write_parquet('data/video-ids.parquet')\n",
        "pl.DataFrame(video_record_list).write_csv('data/video-ids.csv')"
      ],
      "metadata": {
        "id": "qnd-NhVIuAW2"
      },
      "execution_count": 16,
      "outputs": []
    },
    {
      "cell_type": "code",
      "source": [
        "video_record_list"
      ],
      "metadata": {
        "colab": {
          "base_uri": "https://localhost:8080/"
        },
        "id": "GWcTWyLUuqD6",
        "outputId": "c3cc3b6a-cc8e-4495-85e1-c9dbf295a4e0"
      },
      "execution_count": 17,
      "outputs": [
        {
          "output_type": "execute_result",
          "data": {
            "text/plain": [
              "[]"
            ]
          },
          "metadata": {},
          "execution_count": 17
        }
      ]
    }
  ]
}